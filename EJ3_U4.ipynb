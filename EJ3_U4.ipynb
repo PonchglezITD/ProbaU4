{
  "nbformat": 4,
  "nbformat_minor": 0,
  "metadata": {
    "colab": {
      "provenance": [],
      "include_colab_link": true
    },
    "kernelspec": {
      "name": "python3",
      "display_name": "Python 3"
    },
    "language_info": {
      "name": "python"
    }
  },
  "cells": [
    {
      "cell_type": "markdown",
      "metadata": {
        "id": "view-in-github",
        "colab_type": "text"
      },
      "source": [
        "<a href=\"https://colab.research.google.com/github/PonchglezITD/ProbaU4/blob/main/EJ3_U4.ipynb\" target=\"_parent\"><img src=\"https://colab.research.google.com/assets/colab-badge.svg\" alt=\"Open In Colab\"/></a>"
      ]
    },
    {
      "cell_type": "markdown",
      "source": [
        "\n",
        "\n",
        "# PROBABILIDAD Y ESTADISTICA\n",
        "UNIDAD 4   \n",
        "# PRACTICA 3\n",
        "# Alumno: Angel Alfonso Gonzalez Garcia\n",
        "\n",
        "# Facilitador:José Gabriel Rodríguez Rivas"
      ],
      "metadata": {
        "id": "rmbNlWE-cXzj"
      }
    },
    {
      "cell_type": "markdown",
      "source": [
        "#**Practica 3**:Poisson.\n"
      ],
      "metadata": {
        "id": "ighTboqJKMQq"
      }
    },
    {
      "cell_type": "code",
      "source": [
        "from scipy.stats import poisson\n",
        "\n",
        "media_accidentes = 2\n",
        "probabilidad_0_accidentes = poisson.pmf(0, media_accidentes)\n",
        "print(\"1. Probabilidad de 0 accidentes en 1 semana:\", probabilidad_0_accidentes)\n",
        "\n",
        "media_2_semanas = media_accidentes * 2\n",
        "\n",
        "probabilidad_3_o_menos_accidentes = poisson.pmf(3, media_2_semanas)\n",
        "print(\"2. Probabilidad de que a lo sumo haya 3 accidentes en 2 semanas:\", probabilidad_3_o_menos_accidentes)\n"
      ],
      "metadata": {
        "colab": {
          "base_uri": "https://localhost:8080/"
        },
        "id": "u_4UpimnxGZJ",
        "outputId": "295d8609-8409-4d0e-be13-92440bd0c9c2"
      },
      "execution_count": null,
      "outputs": [
        {
          "output_type": "stream",
          "name": "stdout",
          "text": [
            "1. Probabilidad de 0 accidentes en 1 semana: 0.1353352832366127\n",
            "2. Probabilidad de que a lo sumo haya 3 accidentes en 2 semanas: 0.19536681481316454\n"
          ]
        }
      ]
    },
    {
      "cell_type": "markdown",
      "source": [
        "# **Ejercicio 2**\n",
        "\n",
        "\n"
      ],
      "metadata": {
        "id": "hFW8-fhasZjF"
      }
    },
    {
      "cell_type": "code",
      "source": [
        "from scipy.stats import poisson\n",
        "\n",
        "# Parámetros de la distribución de Poisson\n",
        "media_muertes = 5000 * 0.001 # 5000 hombres con una probabilidad de muerte de 0.001\n",
        "\n",
        "# Número de reclamaciones\n",
        "x= 4\n",
        "\n",
        "# Calcular la probabilidad de que la compañia tenga que pagar 4 reclamaciones en un año determinado\n",
        "probabilidad_4_reclamaciones = poisson.pmf(x, media_muertes)\n",
        "\n",
        "print(\"La probabilidad de que la compañía pague\", x, \"reclamaciones en un año determinado es:\", probabilidad_4_reclamaciones)"
      ],
      "metadata": {
        "colab": {
          "base_uri": "https://localhost:8080/"
        },
        "id": "BTWMvc4Ny4Rr",
        "outputId": "62e68637-76bb-4030-ca5a-fe3742b9c386"
      },
      "execution_count": null,
      "outputs": [
        {
          "output_type": "stream",
          "name": "stdout",
          "text": [
            "La probabilidad de que la compañía pague 4 reclamaciones en un año determinado es: 0.17546736976785063\n"
          ]
        }
      ]
    }
  ]
}