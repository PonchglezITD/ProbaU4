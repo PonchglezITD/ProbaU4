{
  "nbformat": 4,
  "nbformat_minor": 0,
  "metadata": {
    "colab": {
      "provenance": [],
      "include_colab_link": true
    },
    "kernelspec": {
      "name": "python3",
      "display_name": "Python 3"
    },
    "language_info": {
      "name": "python"
    }
  },
  "cells": [
    {
      "cell_type": "markdown",
      "metadata": {
        "id": "view-in-github",
        "colab_type": "text"
      },
      "source": [
        "<a href=\"https://colab.research.google.com/github/PonchglezITD/ProbaU4/blob/main/EJ4_U4.ipynb\" target=\"_parent\"><img src=\"https://colab.research.google.com/assets/colab-badge.svg\" alt=\"Open In Colab\"/></a>"
      ]
    },
    {
      "cell_type": "markdown",
      "source": [
        "# PROBABILIDAD Y ESTADISTICA\n",
        "# UNIDAD 4\n",
        "# PRACTICA 4\n",
        "# Alumno: Angel Alfonso Gonzalez Garcia\n",
        "# Facilitador:José Gabriel Rodríguez Rivas"
      ],
      "metadata": {
        "id": "AZLRnSTcdNss"
      }
    },
    {
      "cell_type": "markdown",
      "source": [
        "#**Practica 3**:Distribución binomial y de Poisson.\n",
        "\n"
      ],
      "metadata": {
        "id": "ighTboqJKMQq"
      }
    },
    {
      "cell_type": "markdown",
      "source": [
        "## **Problema 1**\n",
        "**Antes de resolver el problema especifique si la solución es de tipo Binomial o Poisson y explique por qué.**\n",
        "\n",
        "Realizar un programa en Python que resuelva el siguiente problema:\n",
        "\n",
        "\n",
        "*   El número x de personas ingresadas a una unidad de cuidados intensivos en un hospital particular, en un día, tiene una distribución de probabilidad de Poisson con media igual a cinco personas por día.\n",
        "*   **a).**¿Cuál es la probabilidad de que el número de personas ingresadas a una unidad de cuidados intensivos en un hospital particular, en un día particular, sea dos?\n",
        "*   **b).**¿Es probable que x exceda de 10? Explicar\n",
        "\n"
      ],
      "metadata": {
        "id": "8P5Oy9am2Z7-"
      }
    },
    {
      "cell_type": "markdown",
      "source": [
        "###**Tipo de distribución:**\n",
        "Este problema es de tipo **Poisson**.\n",
        "\n"
      ],
      "metadata": {
        "id": "IzrpQjxs4VTW"
      }
    },
    {
      "cell_type": "code",
      "source": [
        "from scipy.stats import poisson\n",
        "\n",
        "media = 5\n",
        "\n",
        "prob_2_personas = poisson.pmf(2, media)\n",
        "print(\"a) Probabilidad de que ingresen exactamente 2 personas:\", prob_2_personas)\n",
        "\n",
        "prob_mas_10 = 1 - poisson.cdf(10, media)\n",
        "print(\"b) Probabilidad de que ingresen más de 10 personas:\", prob_mas_10)\n",
        "\n",
        "if prob_mas_10 < 0.05:\n",
        "    print(\"→ No es probable que ingresen más de 10 personas (menos del 5%)\")\n",
        "else:\n",
        "    print(\"→ Sí es probable que ingresen más de 10 personas (más del 5%)\")\n"
      ],
      "metadata": {
        "id": "Wm4ZgZYD4sTu",
        "colab": {
          "base_uri": "https://localhost:8080/"
        },
        "outputId": "6d4aa15f-c61a-459c-d7a6-561ff94a3c87"
      },
      "execution_count": null,
      "outputs": [
        {
          "output_type": "stream",
          "name": "stdout",
          "text": [
            "a) Probabilidad de que ingresen exactamente 2 personas: 0.08422433748856832\n",
            "b) Probabilidad de que ingresen más de 10 personas: 0.013695268598382881\n",
            "→ No es probable que ingresen más de 10 personas (menos del 5%)\n"
          ]
        }
      ]
    },
    {
      "cell_type": "markdown",
      "source": [
        "Se calcula en este caso la probabilidad de que ingresen más de 10 personas en un día usando la distribución de Poisson con media 5. Esto se hace restando la probabilidad acumulada de 10 o menos del total (1 − P(X ≤ 10)).\n",
        "\n",
        "El resultado es una probabilidad muy baja, lo que indica que no es probable que ingresen más de 10 personas en un solo día."
      ],
      "metadata": {
        "id": "qDS2mu7v5tL0"
      }
    },
    {
      "cell_type": "markdown",
      "source": [
        "\n",
        "\n",
        "---\n",
        "\n"
      ],
      "metadata": {
        "id": "o8Ex1j0T6w5U"
      }
    },
    {
      "cell_type": "markdown",
      "source": [
        "## **Problema 2**\n",
        "**Antes de resolver el problema especifique si la solución es de tipo Binomial o Poisson y explique por qué.**\n",
        "\n",
        "Realizar un programa en Python que resuelva el siguiente problema:\n",
        "\n",
        "\n",
        "*   Un fabricantes de podadoras para el pasto compra motores de 1 hp y 2 ciclos, en lotes de 1,000, a un proveedor.\n",
        "*   El fabricante equipa cada una de las podadoras producidas por su planta con uno de los motores.\n",
        "*   La historia muestra que la probabilidad de que cualquier motor del proveedor resulte no satisfactorio es .001.\n",
        "*   **En un embarque de 1,000 motores, Calcular**\n",
        "*   **a).**¿Cuál es la probabilidad de que ninguno sea defectuoso?\n",
        "*   **b).**¿Cuál es la probabilidad de que tres sean defectuosos?\n",
        "*   **c).**¿Cuál es la probabilidad de que cuatro sean defectuosos?"
      ],
      "metadata": {
        "id": "bby4Ghe156Uw"
      }
    },
    {
      "cell_type": "markdown",
      "source": [
        "###**Tipo de distribución:**\n",
        "Este problema es de tipo **Binomial**.\n",
        "\n",
        "¿Por qué?\n",
        "*   Hay un número fijo de intentos: 1,000 motores.\n",
        "*   Cada motor tiene solo dos posibles resultados: defectuoso o no defectuoso.\n",
        "*   La probabilidad de que un motor sea defectuoso es constante: **p = 0.001**.\n",
        "*   Los eventos (motores) son **independientes**.\n",
        "\n"
      ],
      "metadata": {
        "id": "dIdm2yEd68OR"
      }
    },
    {
      "cell_type": "code",
      "source": [
        "from scipy.stats import binom\n",
        "\n",
        "\n",
        "n = 1000\n",
        "p = 0.001\n",
        "\n",
        "prob_0 = binom.pmf(0, n, p)\n",
        "print(\"a) Probabilidad de que ninguno sea defectuoso:\", prob_0)\n",
        "\n",
        "prob_3 = binom.pmf(3, n, p)\n",
        "print(\"b) Probabilidad de que tres sean defectuosos:\", prob_3)\n",
        "prob_4 = binom.pmf(4, n, p)\n",
        "print(\"c) Probabilidad de que cuatro sean defectuosos:\", prob_4)\n"
      ],
      "metadata": {
        "colab": {
          "base_uri": "https://localhost:8080/"
        },
        "id": "pTFIdLDb7ToW",
        "outputId": "1d867f71-7d1d-4ffe-8860-33122caf1f47"
      },
      "execution_count": null,
      "outputs": [
        {
          "output_type": "stream",
          "name": "stdout",
          "text": [
            "a) Probabilidad de que ninguno sea defectuoso: 0.3676954247709639\n",
            "b) Probabilidad de que tres sean defectuosos: 0.061282509389840666\n",
            "c) Probabilidad de que cuatro sean defectuosos: 0.015289955420838651\n"
          ]
        }
      ]
    }
  ]
}