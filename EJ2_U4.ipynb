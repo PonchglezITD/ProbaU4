{
  "nbformat": 4,
  "nbformat_minor": 0,
  "metadata": {
    "colab": {
      "provenance": [],
      "include_colab_link": true
    },
    "kernelspec": {
      "name": "python3",
      "display_name": "Python 3"
    },
    "language_info": {
      "name": "python"
    }
  },
  "cells": [
    {
      "cell_type": "markdown",
      "metadata": {
        "id": "view-in-github",
        "colab_type": "text"
      },
      "source": [
        "<a href=\"https://colab.research.google.com/github/PonchglezITD/ProbaU4/blob/main/EJ2_U4.ipynb\" target=\"_parent\"><img src=\"https://colab.research.google.com/assets/colab-badge.svg\" alt=\"Open In Colab\"/></a>"
      ]
    },
    {
      "cell_type": "markdown",
      "source": [
        "\n",
        "# PROBABILIDAD Y ESTADISTICA\n",
        "# UNIDAD 4   \n",
        "# PRACTICA 2\n",
        "# Alumno: Angel Alfonso Gonzalez Garcia\n",
        "\n",
        "# Facilitador:José Gabriel Rodríguez Rivas"
      ],
      "metadata": {
        "id": "4eUSnZ0OJzr8"
      }
    },
    {
      "cell_type": "markdown",
      "source": [
        "#**Practica 2**: Distribución Binomial.\n"
      ],
      "metadata": {
        "id": "ighTboqJKMQq"
      }
    },
    {
      "cell_type": "code",
      "source": [
        "from scipy.stats import binom\n",
        "\n",
        "probabilidad_exito = 0.83\n",
        "num_pacientes = 16\n",
        "X = 16 # Número de exitos\n",
        "\n",
        "probabilidad_ninguno_enfermos = binom.pmf(X, num_pacientes, probabilidad_exito)\n",
        "\n",
        "print(\"La probabilidad de que ningún paciente sufran la enfermedad es:\" , probabilidad_ninguno_enfermos)"
      ],
      "metadata": {
        "colab": {
          "base_uri": "https://localhost:8080/"
        },
        "id": "dFn1lG_xq_ug",
        "outputId": "5ef723c6-8e6d-4097-9ebb-9e06c1a79938",
        "collapsed": true
      },
      "execution_count": null,
      "outputs": [
        {
          "output_type": "stream",
          "name": "stdout",
          "text": [
            "La probabilidad de que ningún paciente sufran la enfermedad es: 0.0507282029895386\n"
          ]
        }
      ]
    },
    {
      "cell_type": "code",
      "source": [
        "from scipy.stats import binom\n",
        "\n",
        "probabilidad_exito = 0.83\n",
        "num_pacientes = 16\n",
        "X = 0\n",
        "\n",
        "probabilidad_todos_enfermos = binom.pmf(X, num_pacientes, probabilidad_exito)\n",
        "\n",
        "print(\"La probabilidad de que todos los pacientes sufran la enfermedad es:\" , probabilidad_todos_enfermos)"
      ],
      "metadata": {
        "colab": {
          "base_uri": "https://localhost:8080/"
        },
        "outputId": "d8d06b9f-ecaf-4cb7-a0f3-ea8a43b8cbbc",
        "id": "uXmFh4Gtr-8y",
        "collapsed": true
      },
      "execution_count": null,
      "outputs": [
        {
          "output_type": "stream",
          "name": "stdout",
          "text": [
            "La probabilidad de que todos los pacientes sufran la enfermedad es: 4.866119187566701e-13\n"
          ]
        }
      ]
    },
    {
      "cell_type": "markdown",
      "source": [
        "# **Ejercicio 2**\n",
        "\n",
        "\n",
        "*   Para una varible aleatoria binomial con n= 10 y una probabilidad de 0.10\n",
        "*   Encontrar la probabilidad de la varibale alaeatoria x = 2. Realizar un programa en python que resuelva el problema usando una distribución de probabilidad binomial\n",
        "\n"
      ],
      "metadata": {
        "id": "hFW8-fhasZjF"
      }
    },
    {
      "cell_type": "code",
      "source": [
        "from scipy.stats import binom\n",
        "\n",
        "n = 10\n",
        "p = 0.10\n",
        "x = 2\n",
        "\n",
        "probabilidad_x_2 = binom.pmf(x, n, p)\n",
        "\n",
        "print(\"La probabilidad de que la variable aleatoria X sea igual a 2 es:\" , probabilidad_x_2)"
      ],
      "metadata": {
        "colab": {
          "base_uri": "https://localhost:8080/"
        },
        "id": "GFoPPMt7s3io",
        "outputId": "2fcc94c2-829f-49ba-9ca0-8fc5926a80d6",
        "collapsed": true
      },
      "execution_count": null,
      "outputs": [
        {
          "output_type": "stream",
          "name": "stdout",
          "text": [
            "La probabilidad de que la variable aleatoria X sea igual a 2 es: 0.19371024450000007\n"
          ]
        }
      ]
    },
    {
      "cell_type": "markdown",
      "source": [
        "# **Ejercicio 3**\n",
        "\n",
        "\n",
        "*   Para una varible aleatoria binomial con n= 10 y una probabilidad de 0.10\n",
        "*   Calcular las probabilidades para cada valoe de x = 0 hasta 10\n",
        "*   Imprimir la tabla de valor de x y sus probabilidades\n",
        "*   Graficar el histograma de la distribución binomial\n",
        "\n"
      ],
      "metadata": {
        "id": "2lEPE1lItgwr"
      }
    },
    {
      "cell_type": "code",
      "source": [
        "import numpy as np\n",
        "import matplotlib.pyplot as plt\n",
        "from scipy.stats import binom\n",
        "\n",
        "n = 10\n",
        "p = 0.10\n",
        "\n",
        "valores_x = np.arange(0, n+1)\n",
        "probabilidades_x = [binom.pmf(x, n, p) for x in valores_x]\n",
        "\n",
        "print(\"Valores de x\\tProbabilidades\")\n",
        "for x, probabilidad in zip(valores_x, probabilidades_x):\n",
        "    print(f\"{x}\\t\\t{probabilidad}\")"
      ],
      "metadata": {
        "colab": {
          "base_uri": "https://localhost:8080/"
        },
        "id": "BKOYXv6Dt5Vs",
        "outputId": "97309a5b-e994-4671-a50e-15b0de2655a0",
        "collapsed": true
      },
      "execution_count": null,
      "outputs": [
        {
          "output_type": "stream",
          "name": "stdout",
          "text": [
            "Valores de x\tProbabilidades\n",
            "0\t\t0.34867844009999993\n",
            "1\t\t0.38742048899999965\n",
            "2\t\t0.19371024450000007\n",
            "3\t\t0.05739562799999998\n",
            "4\t\t0.01116026100000001\n",
            "5\t\t0.0014880347999999995\n",
            "6\t\t0.00013778100000000007\n",
            "7\t\t8.748000000000003e-06\n",
            "8\t\t3.6449999999999996e-07\n",
            "9\t\t8.999999999999995e-09\n",
            "10\t\t1.0000000000000006e-10\n"
          ]
        }
      ]
    },
    {
      "cell_type": "code",
      "source": [
        "plt.figure(figsize=(8, 6))\n",
        "plt.bar(valores_x, probabilidades_x, color='blue')\n",
        "plt.xlabel('Valores de x')\n",
        "plt.ylabel('Probabilidades')\n",
        "plt.title('Distribución Binomial')\n",
        "plt.xticks(valores_x)\n",
        "plt.grid(True)\n",
        "plt.show()"
      ],
      "metadata": {
        "colab": {
          "base_uri": "https://localhost:8080/",
          "height": 564
        },
        "id": "A8BhBC6KuaUx",
        "outputId": "ece671b8-77a0-4fd5-d334-a53ec6711689",
        "collapsed": true
      },
      "execution_count": null,
      "outputs": [
        {
          "output_type": "display_data",
          "data": {
            "text/plain": [
              "<Figure size 800x600 with 1 Axes>"
            ],
            "image/png": "[encoded data removed]"
          },
          "metadata": {}
        }
      ]
    }
  ]
}